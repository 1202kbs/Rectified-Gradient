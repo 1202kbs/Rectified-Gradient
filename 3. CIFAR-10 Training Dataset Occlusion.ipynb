{
 "cells": [
  {
   "cell_type": "code",
   "execution_count": 1,
   "metadata": {},
   "outputs": [],
   "source": [
    "import os, collections\n",
    "\n",
    "if not os.path.exists('CIFAR10_data'):\n",
    "    \n",
    "    !wget https://www.cs.toronto.edu/~kriz/cifar-10-python.tar.gz\n",
    "    !mkdir CIFAR10_data\n",
    "    !tar -xf cifar-10-python.tar.gz -C CIFAR10_data\n",
    "\n",
    "from tqdm import tqdm\n",
    "\n",
    "import matplotlib.pyplot as plt\n",
    "import tensorflow as tf\n",
    "import numpy as np\n",
    "\n",
    "from utils import unpickle, preprocess, batch_run, pixel_range\n",
    "from deepexplain.tensorflow import DeepExplain\n",
    "from models import CIFAR_CNN\n",
    "from trainer import Trainer\n",
    "\n",
    "datadir = 'CIFAR10_data/cifar-10-batches-py/'\n",
    "batches_train = sorted([datadir + batch for batch in os.listdir(datadir) if 'data_batch' in batch], key=lambda x: int(x[-1]))\n",
    "batch_test = datadir + 'test_batch'\n",
    "\n",
    "logdir = 'tf_logs/standard/'"
   ]
  },
  {
   "cell_type": "code",
   "execution_count": 2,
   "metadata": {},
   "outputs": [
    {
     "name": "stderr",
     "output_type": "stream",
     "text": [
      "100%|██████████| 5/5 [00:02<00:00,  2.35it/s]\n"
     ]
    }
   ],
   "source": [
    "for i in tqdm(range(5)):\n",
    "    \n",
    "    batch = unpickle(batches_train[i])\n",
    "\n",
    "    if i == 0:\n",
    "        data = batch[b'data'].astype(np.float32)\n",
    "        cifar = np.transpose(np.reshape(data, [-1,3,32,32]), [0,2,3,1])\n",
    "        labels = batch[b'labels']\n",
    "    else:\n",
    "        data = batch[b'data'].astype(np.float32)\n",
    "        cifar = np.concatenate((cifar, np.transpose(np.reshape(data, [-1,3,32,32]), [0,2,3,1])), axis=0)\n",
    "        labels = np.concatenate((labels, batch[b'labels']), axis=0)\n",
    "\n",
    "test_batch = unpickle(batch_test)\n",
    "cifar_test = np.transpose(np.reshape(test_batch[b'data'], [-1,3,32,32]), [0,2,3,1])\n",
    "labels_test = np.array(test_batch[b'labels'])\n",
    "\n",
    "# Set random seed so I don't have to retrain every time\n",
    "np.random.seed(100)\n",
    "random_mask = np.random.randint(low=0, high=255, size=[1,10,10,3])\n",
    "cifar[:,:10,:10,:] = random_mask\n",
    "cifar_test[:,:10,:10,:] = random_mask\n",
    "\n",
    "data_train = (cifar / 127.5 - 1.0, labels)\n",
    "data_test = (cifar_test / 127.5 - 1.0, labels_test)\n",
    "\n",
    "label_map = {0:'Airplane', 1:'Automobile', 2:'Bird', 3:'Cat', 4:'Deer', 5:'Dog', 6:'Frog', 7:'Horse', 8:'Ship', 9:'Truck'}"
   ]
  },
  {
   "cell_type": "markdown",
   "metadata": {},
   "source": [
    "### Training with Occluded Dataset"
   ]
  },
  {
   "cell_type": "code",
   "execution_count": 3,
   "metadata": {},
   "outputs": [
    {
     "name": "stdout",
     "output_type": "stream",
     "text": [
      "Epoch : 5   | Loss : 0.44810 | Train Accuracy : 0.84166\n",
      "Epoch : 10  | Loss : 0.13555 | Train Accuracy : 0.95238\n",
      "Epoch : 15  | Loss : 0.06766 | Train Accuracy : 0.97640\n",
      "Epoch : 20  | Loss : 0.05823 | Train Accuracy : 0.98040\n",
      "Test Accuracy : 0.72050\n"
     ]
    }
   ],
   "source": [
    "tf.reset_default_graph()\n",
    "\n",
    "DNN = CIFAR_CNN(logdir, 'CNN')\n",
    "\n",
    "sess = tf.InteractiveSession()\n",
    "sess.run(tf.global_variables_initializer())\n",
    "\n",
    "trainer = Trainer(sess, DNN, data_train)\n",
    "trainer.train(n_epochs=20, p_epochs=5)\n",
    "\n",
    "test_acc = DNN.evaluate(sess, data_test)\n",
    "print('Test Accuracy : {:.5f}'.format(test_acc))\n",
    "\n",
    "sess.close()"
   ]
  },
  {
   "cell_type": "markdown",
   "metadata": {},
   "source": [
    "### Comparing Amount of Attribution in Random Patch"
   ]
  },
  {
   "cell_type": "code",
   "execution_count": 4,
   "metadata": {},
   "outputs": [
    {
     "name": "stdout",
     "output_type": "stream",
     "text": [
      "INFO:tensorflow:Restoring parameters from tf_logs/standard/model\n",
      "Running RectGrad explanation method\n",
      "Running RectGrad PRR explanation method\n",
      "Running Saliency Map explanation method\n",
      "Running Guided BP explanation method\n",
      "Running SmoothGrad explanation method\n",
      "Running Gradient * Input explanation method\n",
      "Running IntegGrad explanation method\n",
      "Running DeepLIFT explanation method\n",
      "Done!\n"
     ]
    },
    {
     "data": {
      "image/png": "[encoded data removed]",
      "text/plain": [
       "<Figure size 432x288 with 1 Axes>"
      ]
     },
     "metadata": {},
     "output_type": "display_data"
    }
   ],
   "source": [
    "tf.reset_default_graph()\n",
    "\n",
    "sess = tf.InteractiveSession()\n",
    "\n",
    "with DeepExplain(session=sess, graph=sess.graph) as de:\n",
    "        \n",
    "    new_saver = tf.train.import_meta_graph(logdir + 'model.meta')\n",
    "    new_saver.restore(sess, tf.train.latest_checkpoint(logdir))\n",
    "    \n",
    "    X = tf.get_collection('tensors')[0]\n",
    "    logits = tf.get_collection('tensors')[1]\n",
    "    yv = tf.reduce_max(logits, 1)\n",
    "    yi = tf.argmax(logits, 1)\n",
    "\n",
    "    heavy_methods = ['SmoothGrad', 'IntegGrad', 'DeepLIFT']\n",
    "\n",
    "    attribution_methods = [\n",
    "                           ('RectGrad'         , 'rectgrad'),\n",
    "                           ('RectGrad PRR'     , 'rectgradprr'),\n",
    "                           ('Saliency Map'     , 'saliency'),\n",
    "                           ('Guided BP'        , 'guidedbp'),\n",
    "                           ('SmoothGrad'       , 'smoothgrad'),\n",
    "                           ('Gradient * Input' , 'grad*input'),\n",
    "                           ('IntegGrad'        , 'intgrad'),\n",
    "                           ('DeepLIFT'         , 'deeplift')\n",
    "                          ]\n",
    "\n",
    "    attribution_methods = collections.OrderedDict(attribution_methods)\n",
    "    \n",
    "    attributions = collections.OrderedDict()\n",
    "    \n",
    "    for k, v in attribution_methods.items():\n",
    "        \n",
    "        print('Running {} explanation method'.format(k))\n",
    "        \n",
    "        if k in heavy_methods:\n",
    "            batch_size = 500\n",
    "        else:\n",
    "            batch_size = 1000\n",
    "        \n",
    "        attribution = batch_run(lambda x: de.explain(v, yv, X, x), data_test[0], batch_size)\n",
    "        \n",
    "        if 'RectGrad' in k:\n",
    "            attribution = np.where(attribution > 0, attribution, 0.0)\n",
    "            attributions[k] = preprocess(attribution, 0, 100)\n",
    "        else:\n",
    "            attributions[k] = preprocess(attribution, 95, 100)\n",
    "    \n",
    "    print('Done!')\n",
    "\n",
    "# Plotting\n",
    "noise = [np.sum(v[:,:8,:8], axis=(1,2)) for v in attributions.values()]\n",
    "\n",
    "plt.figure()\n",
    "plt.boxplot(noise, showfliers=False)\n",
    "plt.xticks(np.arange(1, 9), attributions.keys(), rotation=45, ha='center')\n",
    "plt.title('Attribution in Random Patch', fontsize=14, pad=10)\n",
    "plt.show()"
   ]
  },
  {
   "cell_type": "code",
   "execution_count": null,
   "metadata": {},
   "outputs": [],
   "source": []
  }
 ],
 "metadata": {
  "kernelspec": {
   "display_name": "Python 3",
   "language": "python",
   "name": "python3"
  },
  "language_info": {
   "codemirror_mode": {
    "name": "ipython",
    "version": 3
   },
   "file_extension": ".py",
   "mimetype": "text/x-python",
   "name": "python",
   "nbconvert_exporter": "python",
   "pygments_lexer": "ipython3",
   "version": "3.5.2"
  }
 },
 "nbformat": 4,
 "nbformat_minor": 2
}

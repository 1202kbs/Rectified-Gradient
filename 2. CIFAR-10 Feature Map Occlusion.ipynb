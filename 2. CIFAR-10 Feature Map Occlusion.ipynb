{
 "cells": [
  {
   "cell_type": "code",
   "execution_count": 1,
   "metadata": {},
   "outputs": [],
   "source": [
    "import os\n",
    "\n",
    "if not os.path.exists('CIFAR10_data'):\n",
    "    \n",
    "    !wget https://www.cs.toronto.edu/~kriz/cifar-10-python.tar.gz\n",
    "    !mkdir CIFAR10_data\n",
    "    !tar -xf cifar-10-python.tar.gz -C CIFAR10_data\n",
    "\n",
    "if not os.path.exists('CIFAR10_mask'):\n",
    "    \n",
    "    !tar -xf CIFAR10_mask.tar\n",
    "\n",
    "from tqdm import tqdm\n",
    "\n",
    "import matplotlib.pyplot as plt\n",
    "import tensorflow as tf\n",
    "import numpy as np\n",
    "import PIL.Image\n",
    "import cv2\n",
    "\n",
    "from models import CIFAR_CNN\n",
    "from utils import unpickle\n",
    "\n",
    "datadir = 'CIFAR10_data/cifar-10-batches-py/'\n",
    "batches_train = sorted([datadir + batch for batch in os.listdir(datadir) if 'data_batch' in batch], key=lambda x: int(x[-1]))\n",
    "batch_test = datadir + 'test_batch'\n",
    "\n",
    "logdir = 'tf_logs/standard/'"
   ]
  },
  {
   "cell_type": "code",
   "execution_count": 2,
   "metadata": {},
   "outputs": [],
   "source": [
    "def load_images(img_dir, img_size=(32,32)):\n",
    "    \n",
    "    def file_number(x):\n",
    "        \n",
    "        return int(x.split('.')[0].split('_')[1])\n",
    "    \n",
    "    filenames = os.listdir(img_dir)\n",
    "    \n",
    "    image_files = {}\n",
    "    mask_files = {}\n",
    "    \n",
    "    images = {}\n",
    "    masks = {}\n",
    "    \n",
    "    for file in filenames:\n",
    "        \n",
    "        cls = file.split('_')[0]\n",
    "        is_mask = 'mask' in file\n",
    "        \n",
    "        if is_mask:\n",
    "            \n",
    "            if cls in mask_files:\n",
    "                mask_files[cls].append(file)\n",
    "            else:\n",
    "                mask_files[cls] = [file]\n",
    "                \n",
    "            mask_files[cls] = sorted(mask_files[cls], key=file_number)\n",
    "        \n",
    "        else:\n",
    "            \n",
    "            if cls in image_files:\n",
    "                image_files[cls].append(file)\n",
    "            else:\n",
    "                image_files[cls] = [file]\n",
    "            \n",
    "            image_files[cls] = sorted(image_files[cls], key=file_number)\n",
    "    \n",
    "    for k, v in image_files.items():\n",
    "        \n",
    "        res = []\n",
    "        \n",
    "        for file in v:\n",
    "            image = PIL.Image.open(img_dir + file)\n",
    "            image = np.array(image.resize(img_size, PIL.Image.ANTIALIAS)).reshape(1,32,32,-1)\n",
    "            res.append(image)\n",
    "        \n",
    "        res = np.concatenate(res, axis=0)[...,::-1]\n",
    "        res = res / 127.5 - 1.0\n",
    "        images[k] = res\n",
    "    \n",
    "    for k, v in mask_files.items():\n",
    "        \n",
    "        res = []\n",
    "        \n",
    "        for file in v:\n",
    "            image = PIL.Image.open(img_dir + file)\n",
    "            image = np.array(image.resize(img_size, PIL.Image.ANTIALIAS)).reshape(1,32,32,-1)\n",
    "            res.append(image)\n",
    "        \n",
    "        res = np.concatenate(res, axis=0)\n",
    "        masks[k] = res\n",
    "    \n",
    "    return images, masks\n",
    "\n",
    "label_map = {0:'Airplane', 1:'Automobile', 2:'Bird', 3:'Cat', 4:'Deer', 5:'Dog', 6:'Frog', 7:'Horse', 8:'Ship', 9:'Truck'}\n",
    "class_map = {v.lower(): k for k, v in label_map.items()}"
   ]
  },
  {
   "cell_type": "markdown",
   "metadata": {},
   "source": [
    "### Load Images and Masks"
   ]
  },
  {
   "cell_type": "code",
   "execution_count": 3,
   "metadata": {},
   "outputs": [
    {
     "name": "stdout",
     "output_type": "stream",
     "text": [
      "INFO:tensorflow:Restoring parameters from tf_logs/standard/model\n"
     ]
    }
   ],
   "source": [
    "tf.reset_default_graph()\n",
    "\n",
    "sess = tf.InteractiveSession()\n",
    "\n",
    "new_saver = tf.train.import_meta_graph(logdir + 'model.meta')\n",
    "new_saver.restore(sess, tf.train.latest_checkpoint(logdir))\n",
    "\n",
    "X = tf.get_collection('tensors')[0]\n",
    "logits = tf.get_collection('tensors')[1]\n",
    "yv = tf.reduce_max(logits, 1)\n",
    "yi = tf.argmax(logits, 1)\n",
    "\n",
    "images, masks = load_images('CIFAR10_mask/')\n",
    "\n",
    "for k, v in images.items():\n",
    "    predictions = sess.run(yi, feed_dict={X:v})\n",
    "    correct_inds = np.where(predictions == class_map[k])\n",
    "    images[k] = images[k][correct_inds]\n",
    "    masks[k] = masks[k][correct_inds]\n",
    "\n",
    "xs = np.concatenate([v[:10] for k, v in sorted(images.items())])\n",
    "ms = np.concatenate([v[:10] < 200 for k, v in sorted(masks.items())])\n",
    "\n",
    "sess.close()"
   ]
  },
  {
   "cell_type": "markdown",
   "metadata": {},
   "source": [
    "### Restore CNN"
   ]
  },
  {
   "cell_type": "code",
   "execution_count": 4,
   "metadata": {},
   "outputs": [
    {
     "name": "stdout",
     "output_type": "stream",
     "text": [
      "INFO:tensorflow:Restoring parameters from tf_logs/standard/model\n"
     ]
    }
   ],
   "source": [
    "# Layer to perform feature map occlusion on\n",
    "layer = 0\n",
    "\n",
    "layers = []\n",
    "layers.append('CNN/conv1/Relu')\n",
    "layers.append('CNN/conv2/Relu')\n",
    "layers.append('CNN/conv3/Relu')\n",
    "layers.append('CNN/conv4/Relu')\n",
    "layers.append('CNN/dense5/Relu')\n",
    "layers.append('CNN/dense6/BiasAdd')\n",
    "\n",
    "if layer < 2:\n",
    "    shape = [None,32,32,32]\n",
    "else:\n",
    "    shape = [None,16,16,64]\n",
    "\n",
    "tf.reset_default_graph()\n",
    "\n",
    "sess = tf.InteractiveSession()\n",
    "graph = tf.get_default_graph()\n",
    "\n",
    "inp = tf.placeholder(tf.float32, shape=shape, name='input')\n",
    "    \n",
    "new_saver = tf.train.import_meta_graph(logdir + 'model.meta', input_map={layers[layer] + ':0':inp})\n",
    "new_saver.restore(sess, tf.train.latest_checkpoint(logdir))\n",
    "\n",
    "X = tf.get_collection('tensors')[0]\n",
    "logits = tf.get_collection('tensors')[1]\n",
    "yv = tf.reduce_max(logits, 1)\n",
    "yi = tf.argmax(logits, 1)\n",
    "\n",
    "ops = [tf.get_default_graph().get_operation_by_name(name) for name in layers]"
   ]
  },
  {
   "cell_type": "markdown",
   "metadata": {},
   "source": [
    "### Feature Map Occlusion"
   ]
  },
  {
   "cell_type": "code",
   "execution_count": 5,
   "metadata": {},
   "outputs": [
    {
     "name": "stderr",
     "output_type": "stream",
     "text": [
      "100%|██████████| 100/100 [05:06<00:00,  3.06s/it]\n"
     ]
    },
    {
     "data": {
      "image/png": "[encoded data removed]",
      "text/plain": [
       "<Figure size 432x216 with 1 Axes>"
      ]
     },
     "metadata": {},
     "output_type": "display_data"
    }
   ],
   "source": [
    "ress = []\n",
    "\n",
    "for ind in tqdm(range(100)):\n",
    "\n",
    "    image = xs[ind].reshape(1,32,32,3)\n",
    "    label = ind // 10\n",
    "\n",
    "    mask_large = ms[ind].reshape(1,32,32,1)\n",
    "    mask_small = cv2.resize(ms[ind].reshape(32,32).astype(np.uint8), dsize=(16,16), interpolation=cv2.INTER_CUBIC)\n",
    "    mask_small = mask_small.reshape(1,16,16,1).astype(np.bool)\n",
    "\n",
    "    if layer < 2:\n",
    "        mask1 = np.ones([1,32,32,32]) * mask_large\n",
    "    else:\n",
    "        mask1 = np.ones([1,16,16,64]) * mask_small\n",
    "\n",
    "    mask1 = np.where(mask1 == 1, True, False)\n",
    "    name = \"Background Feature Activations\"\n",
    "\n",
    "    a = sess.run(ops[layer].outputs[0], feed_dict={X:image})\n",
    "\n",
    "    percentiles = np.linspace(0, 100, 100)\n",
    "\n",
    "    res = []\n",
    "\n",
    "    # Take average over 50 random trials\n",
    "    for _ in range(50):\n",
    "\n",
    "        # Generate random ordering for feature occlusion\n",
    "        order = np.arange(0, mask1.size, 1)\n",
    "        np.random.shuffle(order)\n",
    "        order = order.reshape(mask1.shape)\n",
    "        order = order * mask1\n",
    "\n",
    "        # Occlusion process\n",
    "        mask2 = np.concatenate([np.where(order < np.percentile(order[(order != 0)], p), True, False) for p in percentiles])\n",
    "\n",
    "        mask = np.bitwise_and(mask1, mask2)\n",
    "        mask = np.bitwise_not(mask)\n",
    "\n",
    "        a_occluded = a * mask\n",
    "        l_occluded = sess.run(logits, feed_dict={inp:a_occluded})\n",
    "        l_occluded = np.transpose(l_occluded)\n",
    "\n",
    "        res.append(l_occluded)\n",
    "\n",
    "    res = np.array(res)\n",
    "    res = np.mean(res, axis=0, keepdims=True)\n",
    "    ress.append(res)\n",
    "\n",
    "ress = np.concatenate(ress)\n",
    "\n",
    "sess.close()\n",
    "\n",
    "# Plotting\n",
    "i = np.linspace(0, 99, 100, dtype=np.int32).reshape(100)\n",
    "j = np.tile(np.linspace(0, 9, 10, dtype=np.int32).reshape(10,1), [1,10]).reshape(100)\n",
    "\n",
    "orig_cls = ress[i,j]\n",
    "\n",
    "temp = np.copy(ress)\n",
    "temp[i,j] = -np.infty\n",
    "next_cls = np.max(temp, axis=1)\n",
    "\n",
    "delta = orig_cls - next_cls\n",
    "delta_mean = np.mean(delta, axis=0)\n",
    "delta_errs = np.std(delta, axis=0)\n",
    "\n",
    "plt.figure(figsize=(6,3))\n",
    "plt.plot(percentiles / 100, delta_mean)\n",
    "plt.title('Convolution Layer {}'.format(layer + 1), fontsize=14, pad=10)\n",
    "plt.xlabel('% of {} Occluded'.format(name), fontsize=12)\n",
    "plt.ylabel('Average Logit Difference', fontsize=12)\n",
    "plt.xticks(np.linspace(0, 1, 11))\n",
    "plt.xlim([0,1])\n",
    "plt.ylim([4,20])\n",
    "plt.show()"
   ]
  },
  {
   "cell_type": "code",
   "execution_count": null,
   "metadata": {},
   "outputs": [],
   "source": []
  }
 ],
 "metadata": {
  "kernelspec": {
   "display_name": "Python 3",
   "language": "python",
   "name": "python3"
  },
  "language_info": {
   "codemirror_mode": {
    "name": "ipython",
    "version": 3
   },
   "file_extension": ".py",
   "mimetype": "text/x-python",
   "name": "python",
   "nbconvert_exporter": "python",
   "pygments_lexer": "ipython3",
   "version": "3.5.2"
  }
 },
 "nbformat": 4,
 "nbformat_minor": 2
}
